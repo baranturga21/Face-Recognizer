{
 "cells": [
  {
   "cell_type": "code",
   "execution_count": null,
   "metadata": {},
   "outputs": [
    {
     "name": "stdout",
     "output_type": "stream",
     "text": [
      "WARNING:tensorflow:No training configuration found in save file: the model was *not* compiled. Compile it manually.\n"
     ]
    }
   ],
   "source": [
    "import os\n",
    "import pickle\n",
    "import numpy as np\n",
    "import cv2\n",
    "import mtcnn\n",
    "from tensorflow.keras.models import load_model\n",
    "from utils import get_face, get_encode, l2_normalizer, normalize\n",
    "\n",
    "# hyper-parameters\n",
    "encoder_model = 'facenet_keras.h5'\n",
    "people_dir = 'data/people'\n",
    "encodings_path = 'data/encodings/encodings.pkl'\n",
    "required_size = (160, 160)\n",
    "\n",
    "face_detector = mtcnn.MTCNN()\n",
    "face_encoder = load_model(encoder_model)\n",
    "\n",
    "encoding_dict = dict()\n",
    "\n",
    "for person_name in os.listdir(people_dir):\n",
    "    person_dir = os.path.join(people_dir, person_name)\n",
    "    encodes = []\n",
    "    for img_name in os.listdir(person_dir):\n",
    "        img_path = os.path.join(person_dir, img_name)\n",
    "        img = cv2.imread(img_path)\n",
    "        img_rgb = cv2.cvtColor(img, cv2.COLOR_BGR2RGB)\n",
    "        results = face_detector.detect_faces(img_rgb)\n",
    "        if results:\n",
    "            res = max(results, key=lambda b: b['box'][2] * b['box'][3])\n",
    "            face, _, _ = get_face(img_rgb, res['box'])\n",
    "\n",
    "            face = normalize(face)\n",
    "            face = cv2.resize(face, required_size)\n",
    "            encode = face_encoder.predict(np.expand_dims(face, axis=0))[0]\n",
    "            encodes.append(encode)\n",
    "    if encodes:\n",
    "        encode = np.sum(encodes, axis=0)\n",
    "        encode = l2_normalizer.transform(np.expand_dims(encode, axis=0))[0]\n",
    "        encoding_dict[person_name] = encode\n",
    "\n",
    "\n",
    "for key in encoding_dict.keys():\n",
    "    print(key)\n",
    "\n",
    "with open(encodings_path, 'bw') as file:\n",
    "    pickle.dump(encoding_dict, file)\n"
   ]
  },
  {
   "cell_type": "code",
   "execution_count": null,
   "metadata": {},
   "outputs": [],
   "source": []
  }
 ],
 "metadata": {
  "kernelspec": {
   "display_name": "Python 3",
   "language": "python",
   "name": "python3"
  },
  "language_info": {
   "codemirror_mode": {
    "name": "ipython",
    "version": 3
   },
   "file_extension": ".py",
   "mimetype": "text/x-python",
   "name": "python",
   "nbconvert_exporter": "python",
   "pygments_lexer": "ipython3",
   "version": "3.7.3"
  }
 },
 "nbformat": 4,
 "nbformat_minor": 5
}
