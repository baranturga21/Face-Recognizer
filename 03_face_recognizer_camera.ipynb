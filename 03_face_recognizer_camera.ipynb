{
 "cells": [
  {
   "cell_type": "code",
   "execution_count": null,
   "metadata": {},
   "outputs": [
    {
     "name": "stdout",
     "output_type": "stream",
     "text": [
      "WARNING:tensorflow:From C:\\Users\\baran\\Anaconda3\\lib\\site-packages\\tensorflow_core\\python\\ops\\resource_variable_ops.py:1630: calling BaseResourceVariable.__init__ (from tensorflow.python.ops.resource_variable_ops) with constraint is deprecated and will be removed in a future version.\n",
      "Instructions for updating:\n",
      "If using Keras pass *_constraint arguments to layers.\n"
     ]
    }
   ],
   "source": [
    "from scipy.spatial.distance import cosine\n",
    "import mtcnn\n",
    "from tensorflow.keras.models import load_model\n",
    "import numpy as np\n",
    "import os\n",
    "from tkinter import messagebox\n",
    "from utils import *\n",
    "\n",
    "kisi=\"unknow\"\n",
    "sampleNum=1\n",
    "os.mkdir(\"data/people/{kisi}\".format(kisi=kisi))\n",
    "\n",
    "def recognize(img,\n",
    "              detector,\n",
    "              encoder,\n",
    "              encoding_dict,\n",
    "              recognition_t=0.5,\n",
    "              confidence_t=0.99,\n",
    "              required_size=(160, 160), ):\n",
    "    img_rgb = cv2.cvtColor(img, cv2.COLOR_BGR2RGB)\n",
    "    results = detector.detect_faces(img_rgb)\n",
    "    for res in results:\n",
    "        if res['confidence'] < confidence_t:\n",
    "            continue\n",
    "        face, pt_1, pt_2 = get_face(img_rgb, res['box'])\n",
    "        encode = get_encode(encoder, face, required_size)\n",
    "        encode = l2_normalizer.transform(encode.reshape(1, -1))[0]\n",
    "        name = 'unknown'\n",
    "\n",
    "        distance = float(\"inf\")\n",
    "        for db_name, db_encode in encoding_dict.items():\n",
    "            dist = cosine(db_encode, encode)\n",
    "            if dist < recognition_t and dist < distance:\n",
    "                name = db_name\n",
    "                distance = dist\n",
    "\n",
    "        if name == 'unknown':\n",
    "            cv2.rectangle(img, pt_1, pt_2, (0, 0, 255), 2)\n",
    "            cv2.putText(img, name, pt_1, cv2.FONT_HERSHEY_SIMPLEX, 1, (0, 0, 255), 1)\n",
    "            \n",
    "            cv2.imwrite(\"data/people/\"+kisi+\"/{photo}_\".format(photo=kisi)+str(sampleNum) +\".jpg\",img)\n",
    "            \n",
    " \n",
    "        else:\n",
    "            cv2.rectangle(img, pt_1, pt_2, (0, 255, 0), 2)\n",
    "            cv2.putText(img, name + f'__{distance:.2f}', (pt_1[0], pt_1[1] - 5), cv2.FONT_HERSHEY_SIMPLEX, 1,\n",
    "                        (0, 200, 200), 2)\n",
    "    return img\n",
    "\n",
    "\n",
    "if __name__ == '__main__':\n",
    "    encoder_model = 'facenet_keras.h5'\n",
    "    encodings_path = 'data/encodings/encodings.pkl'\n",
    "\n",
    "    face_detector = mtcnn.MTCNN()\n",
    "    face_encoder = load_model(encoder_model,compile=False)\n",
    "    encoding_dict = load_pickle(encodings_path)\n",
    "\n",
    "    vc = cv2.VideoCapture(0)\n",
    "    while vc.isOpened():\n",
    "        ret, frame = vc.read()\n",
    "        frame=cv2.flip(frame,1)\n",
    "        if not ret:\n",
    "            print(\"no frame:(\")\n",
    "            break\n",
    "        frame = recognize(frame, face_detector, face_encoder, encoding_dict)\n",
    "        \n",
    "        cv2.imshow('camera', frame)\n",
    "\n",
    "        if cv2.waitKey(1) & 0xFF == ord('q'):\n",
    "            break\n",
    "\n",
    "vc.release()\n",
    "cv2.destroyAllWindows()"
   ]
  },
  {
   "cell_type": "code",
   "execution_count": null,
   "metadata": {},
   "outputs": [],
   "source": []
  }
 ],
 "metadata": {
  "kernelspec": {
   "display_name": "Python 3",
   "language": "python",
   "name": "python3"
  },
  "language_info": {
   "codemirror_mode": {
    "name": "ipython",
    "version": 3
   },
   "file_extension": ".py",
   "mimetype": "text/x-python",
   "name": "python",
   "nbconvert_exporter": "python",
   "pygments_lexer": "ipython3",
   "version": "3.7.3"
  }
 },
 "nbformat": 4,
 "nbformat_minor": 4
}
